{
  "cells": [
    {
      "cell_type": "markdown",
      "metadata": {
        "id": "tsD4YVAe_Te2"
      },
      "source": [
        "# Problem 1\n",
        "Bir sayının 7'ye bölünebilir olup olmadığını kontrol etmek \n",
        "için bir program yazın.\n",
        "\n",
        "İpucu: Mod operatörünü (%) kullanabilirsiniz."
      ]
    },
    {
      "cell_type": "code",
      "execution_count": 15,
      "metadata": {
        "id": "NGjvNwKx_Te7"
      },
      "outputs": [
        {
          "name": "stdout",
          "output_type": "stream",
          "text": [
            "bu sayı 7'ye bölünmez\n"
          ]
        }
      ],
      "source": [
        "a=int(input(\"bir sayı giriniz:\"))\n",
        "if a % 7 == 0:\n",
        " print(\"bu sayı 7'ye bölünür\")\n",
        "else:\n",
        " print(\"bu sayı 7'ye bölünmez\")"
      ]
    },
    {
      "cell_type": "markdown",
      "metadata": {
        "id": "Kg3qiBAI_Te8"
      },
      "source": [
        "# Problem 2\n",
        "Kullanıcıdan vize ve final notu isteyin. Girilen vize notunun %40’ı ve \n",
        "girilen finalnotunun ise %60’ı alınarak yıl sonu not ortalaması hesaplanacaktır. \n",
        "\n",
        "Bu not ortalaması eğer 85 ve üzeri ise AA, \n",
        "\n",
        "75 ve 85 arasında ise BA, \n",
        "\n",
        "70 ve 75 arasında ise BB, \n",
        "\n",
        "65 ve 70 arasında ise CB,\n",
        "\n",
        "60 ve 65 arasında ise CC,\n",
        "\n",
        "55 ve 60 arasında ise DC,\n",
        "\n",
        "50 ve 55 arasında ise DD olarak hesaplanacaktır. \n",
        "\n",
        "Bu öğrencinin yıl sonu toplam notu 50’nin altında ise FF ile dersten kalacaktır. \n",
        "\n",
        "Ayrıca öğrencinin final notu 50’nin altında ise direkt FF ile kalacaktır."
      ]
    },
    {
      "cell_type": "code",
      "execution_count": 39,
      "metadata": {
        "id": "MXTtCxI1_Te8"
      },
      "outputs": [
        {
          "name": "stdout",
          "output_type": "stream",
          "text": [
            "54.0 DD KALDI\n"
          ]
        }
      ],
      "source": [
        "not1=int(input(\"1. sınav notunuzu girin\"))\n",
        "not2=int(input(\"2. sınav notunuzu girin\"))\n",
        "if int(not1*40/100+not2*60/100<55):\n",
        "   if int(50<=not1*40/100+not2*60/100<=54):\n",
        "     print(not1*40/100+not2*60/100,\"DD\",\"KALDI\")\n",
        "   if int(40<=not1*40/100+not2*60/100<=49):\n",
        "     print(not1*40/100+not2*60/100,\"FD\",\"KALDI\")\n",
        "   if int(0<=not1*40/100+not2*60/100<=39):\n",
        "     print(not1*40/100+not2*60/100,\"FF\",\"KALDI\")\n",
        " \n",
        "else:\n",
        "    if int(55<=not1*40/100+not2*60/100<=59):\n",
        "     print(not1*40/100+not2*60/100,\"DC\",\"GEÇTİ\")\n",
        "    if int(60<=not1*40/100+not2*60/100<=64):\n",
        "     print(not1*40/100+not2*60/100,\"CC\",\"GEÇTİ\")\n",
        "    if int(65<=not1*40/100+not2*60/100<=69):\n",
        "     print(not1*40/100+not2*60/100,\"CB\",\"GEÇTİ\")\n",
        "    if int(70<=not1*40/100+not2*60/100<=84):\n",
        "     print(not1*40/100+not2*60/100,\"BB\",\"GEÇTİ\")\n",
        "    if int(85<=not1*40/100+not2*60/100<=89):\n",
        "     print(not1*40/100+not2*60/100,\"BA\",\"GEÇTİ\")\n",
        "    if int(90<=not1*40/100+not2*60/100<=100):\n",
        "     print(not1*40/100+not2*60/100,\"AA\",\"GEÇTİ\")\n",
        "\n",
        "\n"
      ]
    },
    {
      "cell_type": "markdown",
      "metadata": {
        "id": "tAoRYCTC_Te8"
      },
      "source": [
        "# Problem 3\n",
        "İki YetGenli Zirve'de karşılaşıyorlar. Birbirlerini tanımak için sorular soruyorlar. Birbirlerine yaşlarını soruyorlar. Akıllarına bir Python programı yazıp, yaşlarını ve isimlerini giriyorlar. Büyük olanın yaşını ekrana yazdıran programı yazıyorlar. Sende bu iki YetGenli'ye destek olmak ister misin?\n",
        "\n",
        "```\n",
        "Birinci YetGenlinin ismi: Ahmet\n",
        "Birinci YetGenlinin yaşı : 20\n",
        "İkinci YetGenlinin ismi: Mehmet\n",
        "İkinci YetGenlinin yaşı : 25\n",
        "Mehmet'in yaşı daha büyük ve yaşı 25'tir.\n",
        "```"
      ]
    },
    {
      "cell_type": "code",
      "execution_count": 68,
      "metadata": {
        "id": "bPjE8W0i_Te8"
      },
      "outputs": [
        {
          "name": "stdout",
          "output_type": "stream",
          "text": [
            "esma ve eren aynı yaştalar ve yaşları 20\n"
          ]
        }
      ],
      "source": [
        "ısım1=str(input(\"isim giriniz:\"))\n",
        "yas1=int(input(\"yaşınızı giriniz:\"))\n",
        "ısım2=str(input(\"isim giriniz:\"))\n",
        "yas2=int(input(\"yaşınızı giriniz:\"))\n",
        "if yas1 > yas2:\n",
        "    print(f\"{ısım1}'in yaşı daha büyük ve yaşı {yas1}\")\n",
        "elif yas1< yas2:\n",
        "    print(f\"{ısım2}'in yaşı daha büyük ve yaşı {yas2}\")\n",
        "else:\n",
        "    print(f\"{ısım1} ve {ısım2} aynı yaştalar ve yaşları {yas1}\")\n",
        " "
      ]
    },
    {
      "cell_type": "markdown",
      "metadata": {
        "id": "zBVv8Tyg_Te9"
      },
      "source": [
        "# Problem 4\n",
        "Pandemi döneminde AVM'lerde ateş ölçümü yapılıyor. AVM'ye giren kişinin ateş ölçümü 37.5 derecenin altında ise girişe izin veriliyor. 37.5 derecenin üstünde ise girişe izin verilmiyor. AVM'ye girişe izin verilip verilmediğini ekrana yazdıran bir program yazın.\n",
        "\n",
        "Program sonunda şöyle bir çıktı elde etmelisiniz:\n",
        "\n",
        "```\n",
        "Ateşiniz 37.5 derece. AVM'ye girebilirsin! Maske takmayı unutma!\n",
        "Ateşiniz 37.6 derece. AVM'ye giremezsin! Hemen evine dön!\n",
        "```"
      ]
    },
    {
      "cell_type": "code",
      "execution_count": 69,
      "metadata": {
        "id": "TSAXs8et_Te9"
      },
      "outputs": [
        {
          "name": "stdout",
          "output_type": "stream",
          "text": [
            "ateşiniz34.0 derece. AVM'ye girebilirsiniz.\n"
          ]
        }
      ],
      "source": [
        "ates= float(input(\"ateşinizi giriniz:\"))\n",
        "if ates <= 37.5:\n",
        "    print(f\"ateşiniz {ates} derece. AVM'ye girebilirsiniz.\")\n",
        "else: \n",
        "    print(f\"ateşiniz {ates} derece. AVM'ye giremezsiniz.\")"
      ]
    },
    {
      "cell_type": "markdown",
      "metadata": {
        "id": "6AEkZrDt_Te9"
      },
      "source": [
        "# Problem 5\n",
        "YetGen bir spor kulübüyle sponsorluk anlaşması yapıyor. Kulüp, sponsorluk anlaşmasına göre her YetGen liderinin beden kitle indeksini hesaplamak istiyor. Spor kulübü, beden kitle indeksini hesaplamak için YetGen Jump Python liderlerinden Berkcan ve Ahmet'i arıyor. Berkcan ve Ahmet, kulübe yardımcı olmak için bir Python programı yazıyorlar. Sende bu iki YetGen liderine destek olmak ister misin?\n",
        "\n",
        "Kullanıcıdan alınan boy ve kilo değerlerine göre beden kitle indeksini hesaplayın ve şu kurallara göre ekrana şu yazıları yazdırın.\n",
        "\n",
        "\n",
        "Beden Kitle İndeksi, kişinin ağırlığının (kg olarak) boyunun karesine (m olarak) bölünmesiyle hesaplanır.\n",
        "\n",
        "\n",
        "```\n",
        " BKİ 18.5'un altındaysa -------> Zayıf\n",
        "\n",
        " BKİ 18.5 ile 25 arasındaysa ------> Normal\n",
        "\n",
        " BKİ 25 ile 30 arasındaysa --------> Fazla Kilolu\n",
        "\n",
        " BKİ 30'un üstündeyse -------------> Obez\n",
        "```\n",
        "\n"
      ]
    },
    {
      "cell_type": "code",
      "execution_count": 72,
      "metadata": {
        "id": "t-XPI_u0_Te-"
      },
      "outputs": [
        {
          "name": "stdout",
          "output_type": "stream",
          "text": [
            "ZAYIF\n"
          ]
        }
      ],
      "source": [
        "kılo=int(input(\"kılonuzu kg cinsinden girin:\"))\n",
        "boy=float(input(\"boyunuzu m cinsinden girin:\"))\n",
        "if boy/kılo*kılo < 18.5:\n",
        "    print(\"ZAYIF\")\n",
        "if 18.5< boy/kılo*kılo < 25:\n",
        "    print(\"NORMAL\")\n",
        "if 25< boy/kılo*kılo < 30:\n",
        "    print(\"FAZLA KİLOLU\")\n",
        "if boy/kılo*kılo >30:\n",
        "    print(\"OBEZ\")\n",
        "\n"
      ]
    },
    {
      "cell_type": "markdown",
      "metadata": {
        "id": "oFsvQyaO_Te-"
      },
      "source": [
        "# Problem 6\n",
        "Kullanıcıdan isim, yaş ve eğitim bilgilerini isteyip ehliyet alabilme  durumunu kontrol ediniz. \n",
        "\n",
        "Ehliyet alma koşulu en az 18 yaşında ve eğitim durumu lise ya da üniversite olmalıdır. "
      ]
    },
    {
      "cell_type": "markdown",
      "metadata": {},
      "source": []
    },
    {
      "cell_type": "code",
      "execution_count": 7,
      "metadata": {
        "id": "Tu2mcgco_Te-"
      },
      "outputs": [
        {
          "name": "stdout",
          "output_type": "stream",
          "text": [
            "Ehliyet alamazsınız.\n",
            "Ehliyet alamazsınız.\n"
          ]
        }
      ],
      "source": [
        "age=int(input(\"Yaşınızı giriniz:\"))\n",
        "if age >=18:\n",
        "    print(\"Yaşınız ehliyet almak için uygun.\")\n",
        "else:\n",
        "    print(\"Ehliyet alamazsınız.\")\n",
        "   \n",
        "edu=str(input(\"Eğitim durumunuz nedir?(LİSE/ÜNİVERSİTE):\")).lower()\n",
        "if edu==\"lise\"  or edu==\"üniversite\":\n",
        "   print(\"Eğitim durumunuz ehliyet almak için uygun.\")\n",
        "else: \n",
        "   print(\"Ehliyet alamazsınız.\")"
      ]
    },
    {
      "cell_type": "markdown",
      "metadata": {
        "id": "eUkxVSAE_Te_"
      },
      "source": [
        "# Problem 7\n",
        "Bir yılın artık yıl olup olmadığını kontrol etmek için bir program yazın. \n",
        "Artık yıl kuralı:\n",
        "\n",
        "a) Eğer yılın son iki basamağı (00) ile bitmiyor ve yalnızca 4'e tam bölünüyorsa artık yıldır. Ya da, \n",
        "\n",
        "b) Eğer yıl 400'e tam bölünüyorsa artık yıldır.\n",
        "\n",
        "**Örneğin**\n",
        "```\n",
        "2017 artık yıl değildir.\n",
        "1900 artık yıl değildir\n",
        "2012 artık yıldır.\n",
        "2000 artık yıldır.\n",
        "```"
      ]
    },
    {
      "cell_type": "code",
      "execution_count": 5,
      "metadata": {
        "id": "4uWh8qUL_Te_"
      },
      "outputs": [
        {
          "name": "stdout",
          "output_type": "stream",
          "text": [
            "2001 bir artık yıl değildir.\n"
          ]
        }
      ],
      "source": [
        "year=int(input(\"yıl giriniz:\"))\n",
        "if(year%4==0 and year%100!=0) or(year%400==0):\n",
        "    print(f\"{year} bir artık yıldır.\")\n",
        "else:\n",
        "    print(f\"{year} bir artık yıl değildir.\")"
      ]
    }
  ],
  "metadata": {
    "colab": {
      "provenance": []
    },
    "kernelspec": {
      "display_name": "Python 3.10.5 64-bit",
      "language": "python",
      "name": "python3"
    },
    "language_info": {
      "codemirror_mode": {
        "name": "ipython",
        "version": 3
      },
      "file_extension": ".py",
      "mimetype": "text/x-python",
      "name": "python",
      "nbconvert_exporter": "python",
      "pygments_lexer": "ipython3",
      "version": "3.12.0"
    },
    "orig_nbformat": 4,
    "vscode": {
      "interpreter": {
        "hash": "5026d2d6e7aaaaba093def813beadff083d8733e4a511af01735cbabd156995d"
      }
    }
  },
  "nbformat": 4,
  "nbformat_minor": 0
}
