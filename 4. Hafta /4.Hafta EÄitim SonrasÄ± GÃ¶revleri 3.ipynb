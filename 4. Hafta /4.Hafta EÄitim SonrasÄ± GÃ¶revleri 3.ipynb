{
 "cells": [
  {
   "cell_type": "markdown",
   "metadata": {},
   "source": [
    "# Problem 1\n",
    "`ogrenciler` adında bir sözlük oluşturunuz. Kullanıcıdan döngü yardımıyla 3 öğrenci için veri girmesini isteyerek öğrencilerin sırasıyla okul numarası, isim, soy isim, telefon numarası ve doğum tarihi bilgilerini alınız. Aldığınız öğrenci bilgilerini yine aynı döngü yardımıyla `ogrenciler` adındaki sözlükte saklayınız. Daha sonra öğrenci bilgilerinin bulunduğu sözlük yapısını ekrana bastırınız.\n",
    "\n"
   ]
  },
  {
   "cell_type": "code",
   "execution_count": 5,
   "metadata": {},
   "outputs": [
    {
     "name": "stdout",
     "output_type": "stream",
     "text": [
      "{'76': {'İsim': 'SENA', 'Soy isim': 'TAŞTAN', 'Telefon no': '0 555 444 33 22', 'Doğumtarihi': '2002'}}\n",
      "{'76': {'İsim': 'SENA', 'Soy isim': 'TAŞTAN', 'Telefon no': '0 555 444 33 22', 'Doğumtarihi': '2002'}, '90': {'İsim': 'DEREN', 'Soy isim': 'YILDIZ', 'Telefon no': '0 999 888 77 66', 'Doğumtarihi': '2003'}}\n",
      "{'76': {'İsim': 'SENA', 'Soy isim': 'TAŞTAN', 'Telefon no': '0 555 444 33 22', 'Doğumtarihi': '2002'}, '90': {'İsim': 'DEREN', 'Soy isim': 'YILDIZ', 'Telefon no': '0 999 888 77 66', 'Doğumtarihi': '2003'}, '34': {'İsim': 'DENİZ', 'Soy isim': 'KONUK', 'Telefon no': '0 444', 'Doğumtarihi': '2001'}}\n"
     ]
    }
   ],
   "source": [
    "ogrenciler={}\n",
    "for i in range(3):\n",
    "    okulno=input(\"Öğrencinin okul numarasını girin:\")\n",
    "    isim=input(\"Öğrencinin ismini giriniz\")\n",
    "    soyisim=input(\"Öğrrencinin soy ismini giriniz\")\n",
    "    telefonno=input(\"Öğrencinin telefo numarasını girin:\")\n",
    "    doğumtarihi=input(\"Öğrencinin doğum tarihini girin:\")\n",
    "    ogrenciler[okulno]={\"İsim\":isim,\"Soy isim\":soyisim, \"Telefon no\":telefonno,\"Doğumtarihi\":doğumtarihi}\n",
    "    print(ogrenciler)\n",
    "    "
   ]
  },
  {
   "cell_type": "markdown",
   "metadata": {},
   "source": [
    "# Problem 2\n",
    "\n",
    "### a - Biraz ısınarak başlayalım!\n",
    "\n",
    "```\n",
    "numbers = [5,10,10,15,15,15,20,20,20,20]\n",
    "```\n",
    "\n",
    "Yukarıda `numbers` adında 10 elemanlı bir liste verilmiştir. Bu listenin her elemanını kontrol eden ve tekrar eden elemanları bir kez olacak şekilde başka bir listeye kopyalayan bir program yazınız. Son olarak oluşturduğunuz listeyi ekrana bastırınız.\n",
    "\n",
    "\n",
    "\n",
    "\n",
    "```\n",
    ">Output\n",
    "[5, 10, 15, 20]\n",
    "```\n"
   ]
  },
  {
   "cell_type": "code",
   "execution_count": 11,
   "metadata": {},
   "outputs": [
    {
     "name": "stdout",
     "output_type": "stream",
     "text": [
      "[10, 20, 5, 15]\n"
     ]
    }
   ],
   "source": [
    "numbers=[5,10,10,15,15,15,20,20,20,20]\n",
    "uniquenumbers=set(numbers)\n",
    "uniquelist=list(uniquenumbers)\n",
    "print(uniquelist)"
   ]
  },
  {
   "cell_type": "markdown",
   "metadata": {},
   "source": [
    "### 🌶️ b) Hadi işi biraz daha zorlaştıralım! \n",
    "\n",
    "\n",
    "Şimdiyse senden `numbers` isimli listedeki tekrar eden elemanları `repeatNumbers` adındaki listeye; tekrar etmeyen elemanları `uniqueNumbers`adındaki listeye kopyalayan yazmanı ve listeleri ekrana bastırmanı bekliyoruz\n",
    "\n",
    "```\n",
    ">Output\n",
    "Tekrar Eden Elemanlar: [10, 10, 15, 15, 15, 20, 20, 20, 20]\n",
    "Tekrar Etmeyen Elemanlar: [5]\n",
    "```"
   ]
  },
  {
   "cell_type": "code",
   "execution_count": 45,
   "metadata": {},
   "outputs": [
    {
     "name": "stdout",
     "output_type": "stream",
     "text": [
      "Tekrar eden elemanlar:[10, 10, 15, 15, 15, 20, 20, 20, 20]\n",
      "Tekrar etmeyen elemanlar:[5]\n"
     ]
    }
   ],
   "source": [
    "numbers=[5,10,10,15,15,15,20,20,20,20]\n",
    "repeatnumbers =[]\n",
    "uniquenumbers =[]\n",
    "for num in numbers:\n",
    "    if numbers.count(num)>1:\n",
    "        repeatnumbers.append(num)\n",
    "    else:\n",
    "        uniquenumbers.append(num)\n",
    "print(f\"Tekrar eden elemanlar:{repeatnumbers}\")\n",
    "print(f\"Tekrar etmeyen elemanlar:{uniquenumbers}\")\n",
    " "
   ]
  },
  {
   "cell_type": "markdown",
   "metadata": {},
   "source": [
    "# Problem 3\n",
    "sn1 = {1,2,3,4,5}\n",
    "\n",
    "sn2 = {4,5,6,7,8}\n",
    "\n",
    " Verilen 2 adet küme için kesişimlerini, farklarını ve birleşimlerini bulunuz. "
   ]
  },
  {
   "cell_type": "code",
   "execution_count": 19,
   "metadata": {},
   "outputs": [
    {
     "name": "stdout",
     "output_type": "stream",
     "text": [
      "Kesişim:{4, 5}, \n",
      " Fark(sn1-sn2):{1, 2, 3}, \n",
      " Fark(sn2-sn1):{8, 6, 7},\n",
      " Birleşim:{1, 2, 3, 4, 5, 6, 7, 8}\n"
     ]
    }
   ],
   "source": [
    "sn1={1,2,3,4,5}\n",
    "sn2={4,5,6,7,8}\n",
    "intersection=sn1 & sn2\n",
    "differencesn1sn2=sn1-sn2\n",
    "differencesn2sn1=sn2-sn1\n",
    "union=sn1 | sn2\n",
    "print(f\"Kesişim:{intersection},\\n Fark(sn1-sn2):{differencesn1sn2},\\n Fark(sn2-sn1):{differencesn2sn1},\\n Birleşim:{union}\")"
   ]
  },
  {
   "cell_type": "markdown",
   "metadata": {},
   "source": [
    "# Problem 4\n",
    "\n",
    "Buradaki işlemlerimizin tamamı stringler içindir. Aşağıda verilecek olan metodlar için kendinizin örnek yaratması gerekmektedir. \n",
    "\n",
    "Örneğin `upper` için `string` değişkeni oluştururken` k = \"BAC\"` şeklinde oluşturmayınız. Bunun yerine k değişkenini `k = \"bac`\" şeklinde oluşturmanız `upper` metodundaki değişimi görebilmeniz için daha iyi olacaktır.\n",
    "\n",
    "Bütün metodlardaki değişimin gözle görülür şekilde değişimi beklenmektedir.\n",
    "\n",
    "\n",
    "1- capitalize(), lower(), upper(), swapcase(), title(), replace()\n",
    "\n",
    "2- endswith(), startswith(), find(), index(), count()\n",
    "\n",
    "3- split(), strip(), join(), islower(), isalpha(), isdigit()\n",
    "\n",
    "\n",
    "Yukarıdaki `string` metodlarındaki değişimleri görebildiğimiz bir program yazınız.\n"
   ]
  },
  {
   "cell_type": "code",
   "execution_count": 30,
   "metadata": {},
   "outputs": [
    {
     "name": "stdout",
     "output_type": "stream",
     "text": [
      "capitalize=Abcd efghbbb,\n",
      " upper=ABCD EFGHBBB,\n",
      " lower=abcd efghbbb,\n",
      " swapcase=AbCd EfgHbbb,\n",
      " title=Abcd Efghbbb,\n",
      " replace=zBcD eFGhBBB,\n",
      " startswith=False,\n",
      " endswith=False,\n",
      " find=5,\n",
      " index=0,\n",
      " count=4,\n",
      " split=['aBcD e', 'GhBBB'],\n",
      " strip=aBcD eFGhBBB,\n",
      " join=a,B,c,D, ,e,F,G,h,B,B,B,\n",
      " isalpha=False,\n",
      " isdigit=False\n"
     ]
    }
   ],
   "source": [
    "string=\"aBcD eFGhBBB\"\n",
    "#capitalize() ilk harfi büyük yapar\n",
    "capitalize=string.capitalize()\n",
    "#upper() tüm harfleri büyük harf yapar\n",
    "upper=string.upper()\n",
    "#lower() tüm harfleri küçük harf yapar\n",
    "lower=string.lower()\n",
    "#swapcase() büyük harfelri küçük, küçük harfleri büyük yapar\n",
    "swapcase=string.swapcase()\n",
    "#title() her kelimenin ilk harfini  büyük yapar\n",
    "title=string.title()\n",
    "#replace() bir karakteri başka bir karaktele değiştirir\n",
    "replace=string.replace(\"a\",\"z\")\n",
    "#startswith() belirtilen karakterle başlayıp başlamdığını kontrol eder\n",
    "startswith=string.startswith(\"q\")\n",
    "#endswith() belirtilen karakterle bitip btmediğni kontrol eder\n",
    "endswith=string.endswith(\"h\")\n",
    "#find() belirtilen karakterin konumunu bulur. Bulamazsa -1 döner\n",
    "find=string.find(\"e\")\n",
    "#index() belirtilen karakerin konumunu bulur. Bulamzsa hata verir\n",
    "index=string.index(\"a\")\n",
    "#count() belirtilen karakterin kaç kez geçtiğini sayar\n",
    "count=string.count(\"B\")\n",
    "#split() belirtilen karaktere göre metni böler\n",
    "split=string.split(\"F\")\n",
    "#strip() başındaki ve sonundaki boşlukları kaldırır\n",
    "strip=string.strip()\n",
    "#join() listedeki elemanları belirtilen ayırıcı ile birleştirir\n",
    "join=\",\".join(string)\n",
    "#isalpha() saece alfabetik karakterlerden oluşup oluşmadığını kontrol eder\n",
    "isalpha=string.isalpha()\n",
    "#isdigit() sadece sayılardan oluşup oluşmadığını kontrol eder.\n",
    "isdigit=string.isdigit()\n",
    "print(f\"capitalize={capitalize},\\n upper={upper},\\n lower={lower},\\n swapcase={swapcase},\\n title={title},\\n replace={replace},\\n startswith={startswith},\\n endswith={endswith},\\n find={find},\\n index={index},\\n count={count},\\n split={split},\\n strip={strip},\\n join={join},\\n isalpha={isalpha},\\n isdigit={isdigit}\")"
   ]
  }
 ],
 "metadata": {
  "kernelspec": {
   "display_name": "Python 3.10.5 64-bit",
   "language": "python",
   "name": "python3"
  },
  "language_info": {
   "codemirror_mode": {
    "name": "ipython",
    "version": 3
   },
   "file_extension": ".py",
   "mimetype": "text/x-python",
   "name": "python",
   "nbconvert_exporter": "python",
   "pygments_lexer": "ipython3",
   "version": "3.12.0"
  },
  "orig_nbformat": 4,
  "vscode": {
   "interpreter": {
    "hash": "5026d2d6e7aaaaba093def813beadff083d8733e4a511af01735cbabd156995d"
   }
  }
 },
 "nbformat": 4,
 "nbformat_minor": 2
}
